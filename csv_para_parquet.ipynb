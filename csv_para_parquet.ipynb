{
 "cells": [
  {
   "cell_type": "code",
   "execution_count": 60,
   "metadata": {},
   "outputs": [],
   "source": [
    "import pandas as pd"
   ]
  },
  {
   "cell_type": "code",
   "execution_count": 61,
   "metadata": {},
   "outputs": [],
   "source": [
    "def convert_bytes(num):\n",
    "    for x in ['bytes', 'KB', 'MB', 'GB', 'TB']:\n",
    "        if num < 1024.0:\n",
    "            return  \"%3.1f %s\" % (num, x)\n",
    "        num /= 1024.0"
   ]
  },
  {
   "cell_type": "markdown",
   "metadata": {},
   "source": [
    "Tamanho original do dataset de 2020"
   ]
  },
  {
   "cell_type": "code",
   "execution_count": 62,
   "metadata": {},
   "outputs": [
    {
     "data": {
      "text/plain": [
       "'10.2 MB'"
      ]
     },
     "execution_count": 62,
     "metadata": {},
     "output_type": "execute_result"
    }
   ],
   "source": [
    "import os\n",
    "\n",
    "csv_em_bytes = os.path.getsize('data/censo2020_filtrado.csv')\n",
    "convert_bytes(csv_em_bytes)\n"
   ]
  },
  {
   "cell_type": "markdown",
   "metadata": {},
   "source": [
    "Tamanho original do dataset de 2021"
   ]
  },
  {
   "cell_type": "code",
   "execution_count": 63,
   "metadata": {},
   "outputs": [
    {
     "data": {
      "text/plain": [
       "'12.2 MB'"
      ]
     },
     "execution_count": 63,
     "metadata": {},
     "output_type": "execute_result"
    }
   ],
   "source": [
    "csv_em_bytes2 = os.path.getsize('data/censo2021_filtrado.csv')\n",
    "convert_bytes(csv_em_bytes2)"
   ]
  },
  {
   "cell_type": "code",
   "execution_count": 64,
   "metadata": {},
   "outputs": [
    {
     "name": "stdout",
     "output_type": "stream",
     "text": [
      "CPU times: total: 797 ms\n",
      "Wall time: 1.47 s\n"
     ]
    },
    {
     "data": {
      "text/plain": [
       "(62563, 55)"
      ]
     },
     "execution_count": 64,
     "metadata": {},
     "output_type": "execute_result"
    }
   ],
   "source": [
    "%%time\n",
    "df_2020 = pd.read_csv('data/censo2020_filtrado.csv')\n",
    "df_2020.shape"
   ]
  },
  {
   "cell_type": "code",
   "execution_count": 65,
   "metadata": {},
   "outputs": [
    {
     "name": "stdout",
     "output_type": "stream",
     "text": [
      "CPU times: total: 797 ms\n",
      "Wall time: 1.53 s\n"
     ]
    },
    {
     "data": {
      "text/plain": [
       "(75454, 55)"
      ]
     },
     "execution_count": 65,
     "metadata": {},
     "output_type": "execute_result"
    }
   ],
   "source": [
    "%%time\n",
    "df_2021 = pd.read_csv('data/censo2021_filtrado.csv')\n",
    "df_2021.shape"
   ]
  },
  {
   "cell_type": "code",
   "execution_count": 66,
   "metadata": {},
   "outputs": [
    {
     "data": {
      "text/html": [
       "<div>\n",
       "<style scoped>\n",
       "    .dataframe tbody tr th:only-of-type {\n",
       "        vertical-align: middle;\n",
       "    }\n",
       "\n",
       "    .dataframe tbody tr th {\n",
       "        vertical-align: top;\n",
       "    }\n",
       "\n",
       "    .dataframe thead th {\n",
       "        text-align: right;\n",
       "    }\n",
       "</style>\n",
       "<table border=\"1\" class=\"dataframe\">\n",
       "  <thead>\n",
       "    <tr style=\"text-align: right;\">\n",
       "      <th></th>\n",
       "      <th>CO_CURSO</th>\n",
       "      <th>NO_CURSO</th>\n",
       "      <th>TP_MODALIDADE_ENSINO</th>\n",
       "      <th>TP_GRAU_ACADEMICO</th>\n",
       "      <th>TP_NIVEL_ACADEMICO</th>\n",
       "      <th>QT_CONC</th>\n",
       "      <th>QT_CONC_FEM</th>\n",
       "      <th>QT_CONC_MASC</th>\n",
       "      <th>QT_CONC_0_17</th>\n",
       "      <th>QT_CONC_18_24</th>\n",
       "      <th>...</th>\n",
       "      <th>QT_MAT_DIURNO</th>\n",
       "      <th>QT_MAT_NOTURNO</th>\n",
       "      <th>QT_MAT_0_17</th>\n",
       "      <th>QT_MAT_18_24</th>\n",
       "      <th>QT_MAT_25_29</th>\n",
       "      <th>QT_MAT_30_34</th>\n",
       "      <th>QT_MAT_35_39</th>\n",
       "      <th>QT_MAT_40_49</th>\n",
       "      <th>QT_MAT_50_59</th>\n",
       "      <th>QT_MAT_60_MAIS</th>\n",
       "    </tr>\n",
       "  </thead>\n",
       "  <tbody>\n",
       "    <tr>\n",
       "      <th>0</th>\n",
       "      <td>101936</td>\n",
       "      <td>ADMINISTRAÇÃO</td>\n",
       "      <td>1</td>\n",
       "      <td>1</td>\n",
       "      <td>1</td>\n",
       "      <td>18</td>\n",
       "      <td>10</td>\n",
       "      <td>8</td>\n",
       "      <td>0</td>\n",
       "      <td>11</td>\n",
       "      <td>...</td>\n",
       "      <td>252</td>\n",
       "      <td>0</td>\n",
       "      <td>0</td>\n",
       "      <td>172</td>\n",
       "      <td>62</td>\n",
       "      <td>8</td>\n",
       "      <td>4</td>\n",
       "      <td>1</td>\n",
       "      <td>5</td>\n",
       "      <td>0</td>\n",
       "    </tr>\n",
       "    <tr>\n",
       "      <th>1</th>\n",
       "      <td>1151781</td>\n",
       "      <td>ADMINISTRAÇÃO PÚBLICA</td>\n",
       "      <td>1</td>\n",
       "      <td>1</td>\n",
       "      <td>1</td>\n",
       "      <td>13</td>\n",
       "      <td>5</td>\n",
       "      <td>8</td>\n",
       "      <td>0</td>\n",
       "      <td>6</td>\n",
       "      <td>...</td>\n",
       "      <td>0</td>\n",
       "      <td>164</td>\n",
       "      <td>2</td>\n",
       "      <td>88</td>\n",
       "      <td>45</td>\n",
       "      <td>17</td>\n",
       "      <td>6</td>\n",
       "      <td>4</td>\n",
       "      <td>2</td>\n",
       "      <td>0</td>\n",
       "    </tr>\n",
       "    <tr>\n",
       "      <th>2</th>\n",
       "      <td>102148</td>\n",
       "      <td>AGRONOMIA</td>\n",
       "      <td>1</td>\n",
       "      <td>1</td>\n",
       "      <td>1</td>\n",
       "      <td>15</td>\n",
       "      <td>6</td>\n",
       "      <td>9</td>\n",
       "      <td>0</td>\n",
       "      <td>2</td>\n",
       "      <td>...</td>\n",
       "      <td>233</td>\n",
       "      <td>0</td>\n",
       "      <td>3</td>\n",
       "      <td>158</td>\n",
       "      <td>52</td>\n",
       "      <td>12</td>\n",
       "      <td>3</td>\n",
       "      <td>3</td>\n",
       "      <td>2</td>\n",
       "      <td>0</td>\n",
       "    </tr>\n",
       "    <tr>\n",
       "      <th>3</th>\n",
       "      <td>101932</td>\n",
       "      <td>ARQUITETURA E URBANISMO</td>\n",
       "      <td>1</td>\n",
       "      <td>1</td>\n",
       "      <td>1</td>\n",
       "      <td>15</td>\n",
       "      <td>9</td>\n",
       "      <td>6</td>\n",
       "      <td>0</td>\n",
       "      <td>5</td>\n",
       "      <td>...</td>\n",
       "      <td>239</td>\n",
       "      <td>0</td>\n",
       "      <td>2</td>\n",
       "      <td>171</td>\n",
       "      <td>45</td>\n",
       "      <td>13</td>\n",
       "      <td>3</td>\n",
       "      <td>3</td>\n",
       "      <td>1</td>\n",
       "      <td>1</td>\n",
       "    </tr>\n",
       "    <tr>\n",
       "      <th>4</th>\n",
       "      <td>101942</td>\n",
       "      <td>CIÊNCIA DA COMPUTAÇÃO</td>\n",
       "      <td>1</td>\n",
       "      <td>1</td>\n",
       "      <td>1</td>\n",
       "      <td>21</td>\n",
       "      <td>4</td>\n",
       "      <td>17</td>\n",
       "      <td>0</td>\n",
       "      <td>12</td>\n",
       "      <td>...</td>\n",
       "      <td>239</td>\n",
       "      <td>0</td>\n",
       "      <td>2</td>\n",
       "      <td>179</td>\n",
       "      <td>42</td>\n",
       "      <td>9</td>\n",
       "      <td>5</td>\n",
       "      <td>1</td>\n",
       "      <td>1</td>\n",
       "      <td>0</td>\n",
       "    </tr>\n",
       "  </tbody>\n",
       "</table>\n",
       "<p>5 rows × 55 columns</p>\n",
       "</div>"
      ],
      "text/plain": [
       "   CO_CURSO                 NO_CURSO  TP_MODALIDADE_ENSINO  TP_GRAU_ACADEMICO  \\\n",
       "0    101936            ADMINISTRAÇÃO                     1                  1   \n",
       "1   1151781    ADMINISTRAÇÃO PÚBLICA                     1                  1   \n",
       "2    102148                AGRONOMIA                     1                  1   \n",
       "3    101932  ARQUITETURA E URBANISMO                     1                  1   \n",
       "4    101942    CIÊNCIA DA COMPUTAÇÃO                     1                  1   \n",
       "\n",
       "   TP_NIVEL_ACADEMICO  QT_CONC  QT_CONC_FEM  QT_CONC_MASC  QT_CONC_0_17  \\\n",
       "0                   1       18           10             8             0   \n",
       "1                   1       13            5             8             0   \n",
       "2                   1       15            6             9             0   \n",
       "3                   1       15            9             6             0   \n",
       "4                   1       21            4            17             0   \n",
       "\n",
       "   QT_CONC_18_24  ...  QT_MAT_DIURNO  QT_MAT_NOTURNO  QT_MAT_0_17  \\\n",
       "0             11  ...            252               0            0   \n",
       "1              6  ...              0             164            2   \n",
       "2              2  ...            233               0            3   \n",
       "3              5  ...            239               0            2   \n",
       "4             12  ...            239               0            2   \n",
       "\n",
       "   QT_MAT_18_24  QT_MAT_25_29  QT_MAT_30_34  QT_MAT_35_39  QT_MAT_40_49  \\\n",
       "0           172            62             8             4             1   \n",
       "1            88            45            17             6             4   \n",
       "2           158            52            12             3             3   \n",
       "3           171            45            13             3             3   \n",
       "4           179            42             9             5             1   \n",
       "\n",
       "   QT_MAT_50_59  QT_MAT_60_MAIS  \n",
       "0             5               0  \n",
       "1             2               0  \n",
       "2             2               0  \n",
       "3             1               1  \n",
       "4             1               0  \n",
       "\n",
       "[5 rows x 55 columns]"
      ]
     },
     "execution_count": 66,
     "metadata": {},
     "output_type": "execute_result"
    }
   ],
   "source": [
    "df_2020.head()"
   ]
  },
  {
   "cell_type": "code",
   "execution_count": 67,
   "metadata": {},
   "outputs": [
    {
     "data": {
      "text/html": [
       "<div>\n",
       "<style scoped>\n",
       "    .dataframe tbody tr th:only-of-type {\n",
       "        vertical-align: middle;\n",
       "    }\n",
       "\n",
       "    .dataframe tbody tr th {\n",
       "        vertical-align: top;\n",
       "    }\n",
       "\n",
       "    .dataframe thead th {\n",
       "        text-align: right;\n",
       "    }\n",
       "</style>\n",
       "<table border=\"1\" class=\"dataframe\">\n",
       "  <thead>\n",
       "    <tr style=\"text-align: right;\">\n",
       "      <th></th>\n",
       "      <th>CO_CURSO</th>\n",
       "      <th>NO_CURSO</th>\n",
       "      <th>TP_MODALIDADE_ENSINO</th>\n",
       "      <th>TP_GRAU_ACADEMICO</th>\n",
       "      <th>TP_NIVEL_ACADEMICO</th>\n",
       "      <th>QT_CONC</th>\n",
       "      <th>QT_CONC_FEM</th>\n",
       "      <th>QT_CONC_MASC</th>\n",
       "      <th>QT_CONC_0_17</th>\n",
       "      <th>QT_CONC_18_24</th>\n",
       "      <th>...</th>\n",
       "      <th>QT_MAT_DIURNO</th>\n",
       "      <th>QT_MAT_NOTURNO</th>\n",
       "      <th>QT_MAT_0_17</th>\n",
       "      <th>QT_MAT_18_24</th>\n",
       "      <th>QT_MAT_25_29</th>\n",
       "      <th>QT_MAT_30_34</th>\n",
       "      <th>QT_MAT_35_39</th>\n",
       "      <th>QT_MAT_40_49</th>\n",
       "      <th>QT_MAT_50_59</th>\n",
       "      <th>QT_MAT_60_MAIS</th>\n",
       "    </tr>\n",
       "  </thead>\n",
       "  <tbody>\n",
       "    <tr>\n",
       "      <th>0</th>\n",
       "      <td>302</td>\n",
       "      <td>Enfermagem</td>\n",
       "      <td>1</td>\n",
       "      <td>1</td>\n",
       "      <td>1</td>\n",
       "      <td>26</td>\n",
       "      <td>20</td>\n",
       "      <td>6</td>\n",
       "      <td>0</td>\n",
       "      <td>13</td>\n",
       "      <td>...</td>\n",
       "      <td>373</td>\n",
       "      <td>0</td>\n",
       "      <td>0</td>\n",
       "      <td>254</td>\n",
       "      <td>72</td>\n",
       "      <td>19</td>\n",
       "      <td>16</td>\n",
       "      <td>8</td>\n",
       "      <td>2</td>\n",
       "      <td>2</td>\n",
       "    </tr>\n",
       "    <tr>\n",
       "      <th>1</th>\n",
       "      <td>20766</td>\n",
       "      <td>Enfermagem</td>\n",
       "      <td>1</td>\n",
       "      <td>2</td>\n",
       "      <td>1</td>\n",
       "      <td>0</td>\n",
       "      <td>0</td>\n",
       "      <td>0</td>\n",
       "      <td>0</td>\n",
       "      <td>0</td>\n",
       "      <td>...</td>\n",
       "      <td>1</td>\n",
       "      <td>0</td>\n",
       "      <td>0</td>\n",
       "      <td>0</td>\n",
       "      <td>0</td>\n",
       "      <td>1</td>\n",
       "      <td>0</td>\n",
       "      <td>0</td>\n",
       "      <td>0</td>\n",
       "      <td>0</td>\n",
       "    </tr>\n",
       "    <tr>\n",
       "      <th>2</th>\n",
       "      <td>99411</td>\n",
       "      <td>Fisioterapia</td>\n",
       "      <td>1</td>\n",
       "      <td>1</td>\n",
       "      <td>1</td>\n",
       "      <td>45</td>\n",
       "      <td>37</td>\n",
       "      <td>8</td>\n",
       "      <td>0</td>\n",
       "      <td>25</td>\n",
       "      <td>...</td>\n",
       "      <td>220</td>\n",
       "      <td>0</td>\n",
       "      <td>1</td>\n",
       "      <td>163</td>\n",
       "      <td>34</td>\n",
       "      <td>15</td>\n",
       "      <td>3</td>\n",
       "      <td>1</td>\n",
       "      <td>1</td>\n",
       "      <td>2</td>\n",
       "    </tr>\n",
       "    <tr>\n",
       "      <th>3</th>\n",
       "      <td>99413</td>\n",
       "      <td>Fonoaudiologia</td>\n",
       "      <td>1</td>\n",
       "      <td>1</td>\n",
       "      <td>1</td>\n",
       "      <td>73</td>\n",
       "      <td>60</td>\n",
       "      <td>13</td>\n",
       "      <td>0</td>\n",
       "      <td>55</td>\n",
       "      <td>...</td>\n",
       "      <td>204</td>\n",
       "      <td>0</td>\n",
       "      <td>0</td>\n",
       "      <td>162</td>\n",
       "      <td>16</td>\n",
       "      <td>7</td>\n",
       "      <td>6</td>\n",
       "      <td>10</td>\n",
       "      <td>3</td>\n",
       "      <td>0</td>\n",
       "    </tr>\n",
       "    <tr>\n",
       "      <th>4</th>\n",
       "      <td>303</td>\n",
       "      <td>Medicina</td>\n",
       "      <td>1</td>\n",
       "      <td>1</td>\n",
       "      <td>1</td>\n",
       "      <td>97</td>\n",
       "      <td>44</td>\n",
       "      <td>53</td>\n",
       "      <td>0</td>\n",
       "      <td>38</td>\n",
       "      <td>...</td>\n",
       "      <td>640</td>\n",
       "      <td>0</td>\n",
       "      <td>0</td>\n",
       "      <td>433</td>\n",
       "      <td>157</td>\n",
       "      <td>31</td>\n",
       "      <td>11</td>\n",
       "      <td>5</td>\n",
       "      <td>3</td>\n",
       "      <td>0</td>\n",
       "    </tr>\n",
       "  </tbody>\n",
       "</table>\n",
       "<p>5 rows × 55 columns</p>\n",
       "</div>"
      ],
      "text/plain": [
       "   CO_CURSO        NO_CURSO  TP_MODALIDADE_ENSINO  TP_GRAU_ACADEMICO  \\\n",
       "0       302      Enfermagem                     1                  1   \n",
       "1     20766      Enfermagem                     1                  2   \n",
       "2     99411    Fisioterapia                     1                  1   \n",
       "3     99413  Fonoaudiologia                     1                  1   \n",
       "4       303        Medicina                     1                  1   \n",
       "\n",
       "   TP_NIVEL_ACADEMICO  QT_CONC  QT_CONC_FEM  QT_CONC_MASC  QT_CONC_0_17  \\\n",
       "0                   1       26           20             6             0   \n",
       "1                   1        0            0             0             0   \n",
       "2                   1       45           37             8             0   \n",
       "3                   1       73           60            13             0   \n",
       "4                   1       97           44            53             0   \n",
       "\n",
       "   QT_CONC_18_24  ...  QT_MAT_DIURNO  QT_MAT_NOTURNO  QT_MAT_0_17  \\\n",
       "0             13  ...            373               0            0   \n",
       "1              0  ...              1               0            0   \n",
       "2             25  ...            220               0            1   \n",
       "3             55  ...            204               0            0   \n",
       "4             38  ...            640               0            0   \n",
       "\n",
       "   QT_MAT_18_24  QT_MAT_25_29  QT_MAT_30_34  QT_MAT_35_39  QT_MAT_40_49  \\\n",
       "0           254            72            19            16             8   \n",
       "1             0             0             1             0             0   \n",
       "2           163            34            15             3             1   \n",
       "3           162            16             7             6            10   \n",
       "4           433           157            31            11             5   \n",
       "\n",
       "   QT_MAT_50_59  QT_MAT_60_MAIS  \n",
       "0             2               2  \n",
       "1             0               0  \n",
       "2             1               2  \n",
       "3             3               0  \n",
       "4             3               0  \n",
       "\n",
       "[5 rows x 55 columns]"
      ]
     },
     "execution_count": 67,
     "metadata": {},
     "output_type": "execute_result"
    }
   ],
   "source": [
    "\n",
    "df_2021.head()"
   ]
  },
  {
   "cell_type": "markdown",
   "metadata": {},
   "source": [
    "Salvando o csv para parquet"
   ]
  },
  {
   "cell_type": "code",
   "execution_count": 68,
   "metadata": {},
   "outputs": [],
   "source": [
    "df_2020.to_parquet('data/censo2020_filtrado.parquet')"
   ]
  },
  {
   "cell_type": "code",
   "execution_count": 69,
   "metadata": {},
   "outputs": [],
   "source": [
    "df_2021.to_parquet('data/censo2021_filtrado.parquet')"
   ]
  },
  {
   "cell_type": "markdown",
   "metadata": {},
   "source": [
    "Tamanho do dataset de 2020 reduzido em parquet"
   ]
  },
  {
   "cell_type": "code",
   "execution_count": 70,
   "metadata": {},
   "outputs": [
    {
     "data": {
      "text/plain": [
       "'1.3 MB'"
      ]
     },
     "execution_count": 70,
     "metadata": {},
     "output_type": "execute_result"
    }
   ],
   "source": [
    "parquet_em_bytes = os.path.getsize('data/censo2020_filtrado.parquet')\n",
    "convert_bytes(parquet_em_bytes)"
   ]
  },
  {
   "cell_type": "markdown",
   "metadata": {},
   "source": [
    "Tamanho do dataset de 2021 reduzido em parquet"
   ]
  },
  {
   "cell_type": "code",
   "execution_count": 71,
   "metadata": {},
   "outputs": [
    {
     "data": {
      "text/plain": [
       "'1.4 MB'"
      ]
     },
     "execution_count": 71,
     "metadata": {},
     "output_type": "execute_result"
    }
   ],
   "source": [
    "parquet_em_bytes2 = os.path.getsize('data/censo2021_filtrado.parquet')\n",
    "convert_bytes(parquet_em_bytes2)"
   ]
  }
 ],
 "metadata": {
  "kernelspec": {
   "display_name": "base",
   "language": "python",
   "name": "python3"
  },
  "language_info": {
   "codemirror_mode": {
    "name": "ipython",
    "version": 3
   },
   "file_extension": ".py",
   "mimetype": "text/x-python",
   "name": "python",
   "nbconvert_exporter": "python",
   "pygments_lexer": "ipython3",
   "version": "3.10.9"
  },
  "orig_nbformat": 4
 },
 "nbformat": 4,
 "nbformat_minor": 2
}
